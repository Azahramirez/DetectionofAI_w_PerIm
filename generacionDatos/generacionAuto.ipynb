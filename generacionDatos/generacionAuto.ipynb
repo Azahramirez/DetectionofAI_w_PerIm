{
 "cells": [
  {
   "cell_type": "markdown",
   "metadata": {},
   "source": [
    "# Notebook para generar las respuestas automáticas de un modelo de llm\n",
    "\n",
    "---\n",
    "\n",
    "En este caso se usa gpt-4 con una licencia de Azure"
   ]
  },
  {
   "cell_type": "markdown",
   "metadata": {},
   "source": [
    "**Cargar las librerias**"
   ]
  },
  {
   "cell_type": "code",
   "execution_count": null,
   "metadata": {},
   "outputs": [],
   "source": [
    "import os\n",
    "from openai import AzureOpenAI\n",
    "import pandas as pd\n",
    "# print todays date and exact time\n",
    "from datetime import datetime"
   ]
  },
  {
   "cell_type": "markdown",
   "metadata": {},
   "source": [
    "**Cargar las licencias**\n",
    "\n",
    "(En caso de usar solamente cargar la api de OpenAI se utilizan parámetros distintos)"
   ]
  },
  {
   "cell_type": "code",
   "execution_count": null,
   "metadata": {},
   "outputs": [],
   "source": [
    "endpoint = ''\n",
    "key=''\n",
    "model_name='gpt-4'\n",
    "client = AzureOpenAI(azure_endpoint=endpoint,api_version=\"2024-02-01\",api_key=key)"
   ]
  },
  {
   "cell_type": "markdown",
   "metadata": {},
   "source": [
    "### Loop para generar respuestas"
   ]
  },
  {
   "cell_type": "code",
   "execution_count": null,
   "metadata": {},
   "outputs": [],
   "source": [
    "# Cargar el archivo de preguntas\n",
    "questions = pd.read_csv(\"preguntas\\questions3.csv\" )\n",
    "# read the csv file but remove the second column\n",
    "questions = questions.drop(questions.columns[1], axis=1)\n",
    "now = datetime.now()\n",
    "lista_res= []\n",
    "parametro ='Usando alrededor de 20 palabras, sin ser tan especifico: ' #Este string modifica el prompt al inicio\n",
    "for i in range (questions.shape[0]):\n",
    "    pregunta = questions[\"question\"].loc[i]\n",
    "    completion = client.chat.completions.create(\n",
    "    model=model_name,\n",
    "    messages=[{\"role\": \"user\",\n",
    "        \"content\": parametro+pregunta,  # Modificiacion del prompt\n",
    "    },], \n",
    "    )\n",
    "    #print(\"# Pregunta \",i, pregunta)\n",
    "    #print(completion.choices[0].message.content, \"/n\")\n",
    "    lista_res.append(completion.choices[0].message.content)\n",
    "\n",
    "# Ver respuestas en un dataframe\n",
    "respuestas = {\n",
    "    model_name:lista_res,\n",
    "}\n",
    "respuestas = pd.DataFrame.from_dict(respuestas)\n",
    "respuestas"
   ]
  },
  {
   "cell_type": "markdown",
   "metadata": {},
   "source": [
    "#### Guardar las respuestas con tiempo y notas de ejecución"
   ]
  },
  {
   "cell_type": "code",
   "execution_count": null,
   "metadata": {},
   "outputs": [],
   "source": [
    "# transpose the dataframe\n",
    "respuestas = respuestas.T\n",
    "dt_string = now.strftime(\"%d/%m/%Y %H:%M:%S\")\n",
    "respuestas['tiempo'] = dt_string\n",
    "respuestas['Notas']= 'P2GPT3_5_20palabras'\n",
    "respuestas.reset_index(inplace=True)\n",
    "# Change the name of a column\n",
    "respuestas.rename(columns={\"index\": \"model\"}, inplace=True)\n",
    "# Change the name of all the columns to string\n",
    "respuestas.columns = respuestas.columns.astype(str)\n",
    "# Cargar en caso de haber respuestas previas\n",
    "if not os.path.exists(\"datos/r-gpt-4.csv\"):\n",
    "    respuestas.to_csv(\"r-gpt-4.csv\", index=False)\n",
    "else:\n",
    "    df = pd.read_csv(\"r-gpt-4.csv\")\n",
    "    df.rename(columns={\"Unnamed: 0\": \"model\"}, inplace=True)\n",
    "    df = pd.concat([df, respuestas], axis=0, ignore_index=True)\n",
    "    # save the new data\n",
    "    df.to_csv(\"datos/r-gpt-4.csv\", index=False)"
   ]
  }
 ],
 "metadata": {
  "kernelspec": {
   "display_name": "gcwtdaENV",
   "language": "python",
   "name": "python3"
  },
  "language_info": {
   "name": "python",
   "version": "3.10.14"
  }
 },
 "nbformat": 4,
 "nbformat_minor": 2
}
