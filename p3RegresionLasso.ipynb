{
 "cells": [
  {
   "cell_type": "markdown",
   "metadata": {},
   "source": [
    "# Notebook para realizar una regresión logística regularizada"
   ]
  },
  {
   "cell_type": "markdown",
   "metadata": {},
   "source": [
    "**Cargar librerias**"
   ]
  },
  {
   "cell_type": "code",
   "execution_count": null,
   "metadata": {},
   "outputs": [],
   "source": [
    "import pandas as pd\n",
    "import numpy as np\n",
    "import numpy as np\n",
    "from sklearn.linear_model import LogisticRegression\n",
    "from sklearn.model_selection import train_test_split\n",
    "from sklearn.metrics import accuracy_score, precision_score, recall_score, f1_score, confusion_matrix"
   ]
  },
  {
   "cell_type": "markdown",
   "metadata": {},
   "source": [
    "### Preprocesamiento"
   ]
  },
  {
   "cell_type": "code",
   "execution_count": 4,
   "metadata": {},
   "outputs": [
    {
     "data": {
      "text/plain": [
       "(460, 50, 300)"
      ]
     },
     "execution_count": 4,
     "metadata": {},
     "output_type": "execute_result"
    }
   ],
   "source": [
    "imagenes=np.load('datos/poll_imagv1.npy')\n",
    "data = pd.read_csv('datos/train_poll_v1s1.csv')\n",
    "labels = data['ai']\n",
    "labels = np.array(labels)\n",
    "imagenes.shape"
   ]
  },
  {
   "cell_type": "code",
   "execution_count": 5,
   "metadata": {},
   "outputs": [
    {
     "data": {
      "text/plain": [
       "(460, 15000)"
      ]
     },
     "execution_count": 5,
     "metadata": {},
     "output_type": "execute_result"
    }
   ],
   "source": [
    "#Convert imagenes array from 3D to 2D\n",
    "lol=[]\n",
    "for i in range(len(imagenes)):\n",
    "    lol.append(imagenes[i].flatten())\n",
    "imagenes=np.array(lol)\n",
    "imagenes.shape"
   ]
  },
  {
   "cell_type": "code",
   "execution_count": 6,
   "metadata": {},
   "outputs": [
    {
     "name": "stdout",
     "output_type": "stream",
     "text": [
      "Training Accuracy: 0.9402\n",
      "Testing Accuracy: 0.8804\n",
      "Training Precision: 0.9392\n",
      "Testing Precision: 0.8958\n",
      "Training Recall: 0.9392\n",
      "Testing Recall: 0.8776\n",
      "Training F1 Score: 0.9392\n",
      "Testing F1 Score: 0.8866\n",
      "Confusion Matrix:\n",
      "[[38  5]\n",
      " [ 6 43]]\n",
      "Logistic Regression Coefficients: [[0. 0. 0. ... 0. 0. 0.]]\n"
     ]
    }
   ],
   "source": [
    "# Generate some dummy data\n",
    "# For example, we have 1000 samples and 50 features\n",
    "n_samples = 63 #with 63 the training set is 50 samples\n",
    "X = imagenes#[:n_samples]#np.random.rand(n_samples, n_features)\n",
    "y = labels#[:n_samples]#np.random.randint(2, size=n_samples)  # Binary target\n",
    "\n",
    "# Split the data into training and testing sets\n",
    "X_train, X_test, y_train, y_test = train_test_split(X, y, test_size=0.2, random_state=42)\n",
    "\n",
    "# Create a Logistic Regression model with L1 regularization\n",
    "alpha = 0.000001  # Regularization strength 0.00001\n",
    "log_reg = LogisticRegression(penalty='l1', solver='liblinear', C=1/alpha)\n",
    "\n",
    "# Train the model\n",
    "log_reg.fit(X_train, y_train)\n",
    "\n",
    "# Make predictions\n",
    "y_train_pred = log_reg.predict(X_train)\n",
    "y_test_pred = log_reg.predict(X_test)\n",
    "\n",
    "# Evaluate the model\n",
    "train_accuracy = accuracy_score(y_train, y_train_pred)\n",
    "test_accuracy = accuracy_score(y_test, y_test_pred)\n",
    "train_precision = precision_score(y_train, y_train_pred)\n",
    "test_precision = precision_score(y_test, y_test_pred)\n",
    "train_recall = recall_score(y_train, y_train_pred)\n",
    "test_recall = recall_score(y_test, y_test_pred)\n",
    "train_f1 = f1_score(y_train, y_train_pred)\n",
    "test_f1 = f1_score(y_test, y_test_pred)\n",
    "conf_matrix = confusion_matrix(y_test, y_test_pred)\n",
    "\n",
    "print(f'Training Accuracy: {train_accuracy:.4f}')\n",
    "print(f'Testing Accuracy: {test_accuracy:.4f}')\n",
    "print(f'Training Precision: {train_precision:.4f}')\n",
    "print(f'Testing Precision: {test_precision:.4f}')\n",
    "print(f'Training Recall: {train_recall:.4f}')\n",
    "print(f'Testing Recall: {test_recall:.4f}')\n",
    "print(f'Training F1 Score: {train_f1:.4f}')\n",
    "print(f'Testing F1 Score: {test_f1:.4f}')\n",
    "print(f'Confusion Matrix:\\n{conf_matrix}')\n",
    "print(f'Logistic Regression Coefficients: {log_reg.coef_}')"
   ]
  },
  {
   "cell_type": "markdown",
   "metadata": {},
   "source": [
    "### Guardar el modelo\n"
   ]
  },
  {
   "cell_type": "code",
   "execution_count": 8,
   "metadata": {},
   "outputs": [],
   "source": [
    "\n",
    "# Save the model with pkl\n",
    "import pickle\n",
    "with open('log_reg_model.pkl', 'wb') as file:\n",
    "    pickle.dump(log_reg, file)"
   ]
  }
 ],
 "metadata": {
  "kernelspec": {
   "display_name": "gcwtdaENV",
   "language": "python",
   "name": "python3"
  },
  "language_info": {
   "codemirror_mode": {
    "name": "ipython",
    "version": 3
   },
   "file_extension": ".py",
   "mimetype": "text/x-python",
   "name": "python",
   "nbconvert_exporter": "python",
   "pygments_lexer": "ipython3",
   "version": "3.10.14"
  }
 },
 "nbformat": 4,
 "nbformat_minor": 2
}
