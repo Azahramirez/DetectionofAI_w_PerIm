{
 "cells": [
  {
   "cell_type": "markdown",
   "metadata": {},
   "source": [
    "# Notebook para combinar datasets"
   ]
  },
  {
   "cell_type": "markdown",
   "metadata": {},
   "source": [
    "### librerias"
   ]
  },
  {
   "cell_type": "code",
   "execution_count": 27,
   "metadata": {},
   "outputs": [],
   "source": [
    "import pandas as pd\n",
    "import numpy as np"
   ]
  },
  {
   "cell_type": "markdown",
   "metadata": {},
   "source": [
    "### Cargar los datos"
   ]
  },
  {
   "cell_type": "code",
   "execution_count": 28,
   "metadata": {},
   "outputs": [],
   "source": [
    "encuesta= pd.read_csv('datos/repuestasEncuesta.csv')"
   ]
  },
  {
   "cell_type": "markdown",
   "metadata": {},
   "source": [
    "### Procesamiento"
   ]
  },
  {
   "cell_type": "markdown",
   "metadata": {},
   "source": [
    "#### datos encuesta"
   ]
  },
  {
   "cell_type": "code",
   "execution_count": 29,
   "metadata": {},
   "outputs": [
    {
     "name": "stdout",
     "output_type": "stream",
     "text": [
      "Marca temporal                                                                                                                               2.000000\n",
      "Explica, brevemente, ¿cómo se compone el gobierno mexicano a nivel nacional?                                                                18.565217\n",
      "Explica, brevemente, ¿qué se celebra el 12 de octubre en México y por qué es un hecho relevante en la Cultura Mexicana?                     22.217391\n",
      "Explica, brevemente, ¿cómo defines la velocidad de un objeto en movimiento?                                                                 16.434783\n",
      "Explica, brevemente, ¿cómo defines la unidad de medida metro y para qué se usa?                                                             20.608696\n",
      "Explica, brevemente, ¿cómo defines la unidad de medida de un segundo y para qué se usa?                                                     19.391304\n",
      "Explica con tus palabras, ¿qué necesita un pastel para ser considerado delicioso?                                                           22.521739\n",
      "Explica con tus palabras, ¿qué piensas de los realities televisivos?                                                                        20.434783\n",
      "Explica con tus palabras, ¿qué debería realizar un profesor para que lo consideres como un modelo o buen profesor?                          25.869565\n",
      "Explica con tus palabras, ¿qué debería realizar un estudiante para que lo consideres como un estudiante modelo o buen estudiante?           21.347826\n",
      "Explica con tus palabras, ¿de qué debe depender la calificación de un estudiante en un curso de ciencias (física, química, matemáticas)?    24.391304\n",
      "dtype: float64\n"
     ]
    }
   ],
   "source": [
    "# Calculate average number of words per column\n",
    "average_words = encuesta.apply(lambda col: col.str.split().str.len().mean())\n",
    "\n",
    "print(average_words)"
   ]
  },
  {
   "cell_type": "code",
   "execution_count": 30,
   "metadata": {},
   "outputs": [
    {
     "data": {
      "application/vnd.microsoft.datawrangler.viewer.v0+json": {
       "columns": [
        {
         "name": "index",
         "rawType": "int64",
         "type": "integer"
        },
        {
         "name": "0",
         "rawType": "object",
         "type": "string"
        },
        {
         "name": "1",
         "rawType": "object",
         "type": "string"
        },
        {
         "name": "2",
         "rawType": "object",
         "type": "string"
        },
        {
         "name": "3",
         "rawType": "object",
         "type": "string"
        },
        {
         "name": "4",
         "rawType": "object",
         "type": "string"
        },
        {
         "name": "5",
         "rawType": "object",
         "type": "string"
        },
        {
         "name": "6",
         "rawType": "object",
         "type": "string"
        },
        {
         "name": "7",
         "rawType": "object",
         "type": "string"
        },
        {
         "name": "8",
         "rawType": "object",
         "type": "string"
        },
        {
         "name": "9",
         "rawType": "object",
         "type": "string"
        }
       ],
       "conversionMethod": "pd.DataFrame",
       "ref": "2fe26e38-9577-4bea-90a5-14131fbe3aab",
       "rows": [
        [
         "0",
         "El gobierno mexicano se compone de tres poderes: el legislativo, ejecutivo y judicial. En esta división de 3 sectores, cada poder se encarga de supervisar uno de los tres ámbitos más importantes para la ciudadanía.",
         "Creo que se celebra la llegada de Cristóbal Colón a América. Es decir, la colonización.",
         "La velocidad de un objeto se miden en m/s o cualquier distancia / tiempo. Esto te ayuda a ver cuánta distancia recorre el objeto en cierto tiempo.",
         "El metro es la unidad de medida básica de longitud. Se usa para medir distancias.",
         "El segundo es la forma en que se mide el tiempo.",
         "Para que se diga en general que es delicioso, el pastel le debe gustar a una cierta cantidad alta de personas. Si nada más nos centramos en el adjetivo delicioso, la persona que lo dice le debe gustar para que sea aplicable. No importan los ingredientes, sino el individuo que lo prueba.",
         "Los odio y creo que no son productivos. Para empezar, ponerle la palabra 'reality' a algo que NUNCA es real; es decir, siempre hay cortes y guiones, es un engaño. En segundo lugar, ningún reality trata sobre algo importante o interesante, solamente propagan la cultura de superficialidad y fama que se ha vuelto más y más popular en estos últimos años. Son dañinos para la sociedad y deberían ser eliminados.",
         "Un profesor excelente tiene tres características: sabe explicar, tiene interés por sus alumnos y reta a los estudiantes. Saber explicar no significa que él sabe cosas, sino que entiende la mente del estudiante y aplica los métodos necesarios para enseñar. Tener interés significa que le importan sus estudiantes y que quiere que aprendan algo en el aula. Finalmente, retar a los estudiantes significa que busca formas creativas de presentar problemas, pone proyectos relevantes y AYUDA lo suficiente para resolverlos, pero no los hace el profesor.",
         "Un buen estudiante debe ser resiliente, debe ser responsable y debe tener iniciativa. Entregar tareas a tiempo y ser responsable de tus estudios es lo más obvio. Tener iniciativa e interés es importante, pues mejora la forma en que aprendes cuando no estás ahí por obligación y resuelves las cosas (no te quedas esperando a que alguien haga las cosas por ti). Finalmente, ser resiliente ayuda a que el estudiante no se desanime cuando no le salen las cosas y se esfuerce por seguir estudiando.",
         "En 3 cosas: 1) La capacidad de identificar un problema y los elementos necesarios para resolverlos. 2) Ser capaz de aplicar los métodos o elementos necesarios en el problema 3) Obtener el resultado correcto. Esto se puede evaluar en exámenes, casos, proyectos o tareas, pero es lo primordial para identificar si un estudiante entiende los temas."
        ],
        [
         "1",
         "En poder judicial, ejecutivo y legislativo.",
         "La llegada de Cristobal Colón a América, y es un hecho relevante debido a que es una figura importante como explorador, y fue el que trajo una nueva cultura, y un completo cambio a las poblaciones que vivían antes en lo que hoy es México.",
         "La velocidad es la distancia que recorre un objeto dividido entre el tiempo que le toma recorrer dicha distancia V = d/t donde d= distancia y t= tiempo",
         "El metro es una unidad de distancia y se usa para medir distancias relativamente largas a comparación de sus predecesores como el cm y mm. Se usa para medir cuando empieza y termina un objeto.",
         "Como una medida de tiempo que se usa para medir que tanto tarda algo en que cambie de estado.",
         "Necesitaría satisfacer los gustos de la persona, esto depende mucho de la persona ya que puede haber personas que les guste el pastel dulce, o un betún dulce y puede haber otras que prefieran el sabor de la masa del pastel. ",
         "Pienso que son programas sin sentido ya que al intentar mostrarnos algo realístico muestran exageraciones o cosas completamente falsas por buscar entretener a la audiencia. No son exactamente malos, pero no deberían considerarse realidades, o cosas a aspirar, sino se debería ver como solo entretenimiento.",
         "Debería ser un profesor que demuestre sus conocimientos dentro del aula, un profesor que tome en cuenta las preguntas y opiniones de los estudiantes, y también que sea justo con como evalúa a estos estudiantes viendo el trabajo que hicieron, su esfuerzo y su interés hacia la materia.",
         "Debe ser un estudiante que busca aprender, que es estudioso y da su mejor esfuerzo, es atento en clase y cuando tiene preguntas las hace, y que puede tener una buena relacion con el docente.",
         "De que tan correctas son las respuestas del estudiante así como el procedimiento. Como las ciencias mencionadas son exactas, debería tenerse una alta valoración al resultado de lo que se obtiene."
        ],
        [
         "2",
         "Ni idea",
         "Ni idea",
         "metros sobre segundo o la diferencia en tiempo desde que el objeto estaba en un lugar A hasta el B",
         "Una medida específica para espacio ",
         "Unidad de medición de tiempo",
         "Azúcar ",
         "Interesantes",
         "Ser apasionado por su clase",
         "Ser consistente ",
         "Respuesta correcta "
        ],
        [
         "3",
         "El gobierno mexicano nacional se compone de 3 poderes: Ejecutivo, Legislativo y Judicial. El ejecutivo es el presidente electo. El legislativo son las cámaras de legisladores (diputados y senadores). El Judicial se compone de los jueces de la suprema corte de justicia de la nación. Después de eso, por autonomía de los estados existe un gobernador por cada uno de ellos. Para cualquier cambio o reforma de leyes, se debe de llegar a un consenso entre los 3 poderes de la nación.",
         "El 12 de octubre se celebra la llegada de Cristóbal Colón a América. Es un hecho relevante para la cultura mexicana porque el hecho del descubrimiento de América desencadena los sucesos de la colonización de España a México en el siglo XVI lo que supondrá después una época de virreinato en el país hasta su consumación en la independencia de México hasta el siglo XIX.",
         "La velocidad de un objeto en movimiento se define según la trayectoria recorrida por el objeto entre el tiempo total de su recorrido. Para análisis más profundos es necesario realizar un análisis físico cinemático de los factores que contribuyen al movimiento de dicho objeto, ya sean: velocidades iniciales y/o finales, aceleraciones, fuerzas que actúan sobre el cuerpo, y otras consideraciones geométricas según la superficie de desplazamiento.",
         "Es la unidad de longitud base del sistema métrico internacional. Originalmente representa una parte de la longitud del meridiano de la tierra entre el ecuador y el polo norte.",
         "Es la unidad de tiempo base en el sistema métrico internacional.",
         "Para que un pastel sea considerado delicioso necesita de varios factores importantes, principalmente necesita de: sabor, textura y forma. Primero que nada, el sabor dentro de la rama de la pastelería es esencial para cualquier postre ya que es el elemento principal por lo que ese postre es comido. Si un pastel tiene un buen sabor, es un buen pastel. El segundo elemento, la textura, también es importante ya que texturas extrañas al gusto pueden definir el uso de ciertos ingredientes. Por ejemplo, no todos los elementos líquidos en la cocina son considerados como bebidas para el espectador, por ende un buen pastel debe de tener una gran textura. El último factor, la forma, es un factor orientado a la belleza del pastel. La belleza es algo inherente que siempre ha estado presente en la humanidad. El ser humano y escoge lo que a percepción es bello, y un pastel delicioso no puede ser delicioso si no es probado y uno prueba el pastel por la belleza que genera con su forma.",
         "Los realities televisivos son lo peor que le pudo pasar a la humanidad ya que solo buscan rating a cambio de transmitir contenido basura para contentar a las masas y distraerlas de temas más importantes.",
         "Lo que debe de realizar un profesor para ser considerado un profesor modelo es dedicar tiempo a su vocación. Si un profesor dedica tiempo a la vocación de enseñar y se preocupa por llevar el conocimiento a sus estudiantes de forma dinámica, motivadora y precisa, es un buen profesor.",
         "Lo que debe de realizar un estudiante para ser considerado un estudiante modelo es obtener excelentes calificaciones en todos los cursos que lleve al igual que incluirse en actividades cocurriculares y extracurriculares que contribuyan a un aprendizaje integral de todos los temas.",
         "La calificación de un estudiante en un curso de ciencias debe de depender de las diversas calificaciones obtenidas a lo largo del curso que pueden dividirse en: proyectos, actividades, tareas y exámenes."
        ],
        [
         "4",
         "3 poderes. legislativo, judicial y ejecutivo",
         "no recuerdo",
         "la velocidad del objeto en relación a una distancia",
         "sirve para medir una longitud",
         "fracción de un minuto",
         "buen sabor, buena consistencia, buena presentación",
         "una distracción pero que entretiene",
         "bueno dando su clase y deja un buen impacto en sus alumnos",
         "realice su labor de una forma correcta y responsable",
         "pueda realizar los ejercicios de una forma correcta"
        ]
       ],
       "shape": {
        "columns": 10,
        "rows": 5
       }
      },
      "text/html": [
       "<div>\n",
       "<style scoped>\n",
       "    .dataframe tbody tr th:only-of-type {\n",
       "        vertical-align: middle;\n",
       "    }\n",
       "\n",
       "    .dataframe tbody tr th {\n",
       "        vertical-align: top;\n",
       "    }\n",
       "\n",
       "    .dataframe thead th {\n",
       "        text-align: right;\n",
       "    }\n",
       "</style>\n",
       "<table border=\"1\" class=\"dataframe\">\n",
       "  <thead>\n",
       "    <tr style=\"text-align: right;\">\n",
       "      <th></th>\n",
       "      <th>0</th>\n",
       "      <th>1</th>\n",
       "      <th>2</th>\n",
       "      <th>3</th>\n",
       "      <th>4</th>\n",
       "      <th>5</th>\n",
       "      <th>6</th>\n",
       "      <th>7</th>\n",
       "      <th>8</th>\n",
       "      <th>9</th>\n",
       "    </tr>\n",
       "  </thead>\n",
       "  <tbody>\n",
       "    <tr>\n",
       "      <th>0</th>\n",
       "      <td>El gobierno mexicano se compone de tres podere...</td>\n",
       "      <td>Creo que se celebra la llegada de Cristóbal Co...</td>\n",
       "      <td>La velocidad de un objeto se miden en m/s o cu...</td>\n",
       "      <td>El metro es la unidad de medida básica de long...</td>\n",
       "      <td>El segundo es la forma en que se mide el tiempo.</td>\n",
       "      <td>Para que se diga en general que es delicioso, ...</td>\n",
       "      <td>Los odio y creo que no son productivos. Para e...</td>\n",
       "      <td>Un profesor excelente tiene tres característic...</td>\n",
       "      <td>Un buen estudiante debe ser resiliente, debe s...</td>\n",
       "      <td>En 3 cosas: 1) La capacidad de identificar un ...</td>\n",
       "    </tr>\n",
       "    <tr>\n",
       "      <th>1</th>\n",
       "      <td>En poder judicial, ejecutivo y legislativo.</td>\n",
       "      <td>La llegada de Cristobal Colón a América, y es ...</td>\n",
       "      <td>La velocidad es la distancia que recorre un ob...</td>\n",
       "      <td>El metro es una unidad de distancia y se usa p...</td>\n",
       "      <td>Como una medida de tiempo que se usa para medi...</td>\n",
       "      <td>Necesitaría satisfacer los gustos de la person...</td>\n",
       "      <td>Pienso que son programas sin sentido ya que al...</td>\n",
       "      <td>Debería ser un profesor que demuestre sus cono...</td>\n",
       "      <td>Debe ser un estudiante que busca aprender, que...</td>\n",
       "      <td>De que tan correctas son las respuestas del es...</td>\n",
       "    </tr>\n",
       "    <tr>\n",
       "      <th>2</th>\n",
       "      <td>Ni idea</td>\n",
       "      <td>Ni idea</td>\n",
       "      <td>metros sobre segundo o la diferencia en tiempo...</td>\n",
       "      <td>Una medida específica para espacio</td>\n",
       "      <td>Unidad de medición de tiempo</td>\n",
       "      <td>Azúcar</td>\n",
       "      <td>Interesantes</td>\n",
       "      <td>Ser apasionado por su clase</td>\n",
       "      <td>Ser consistente</td>\n",
       "      <td>Respuesta correcta</td>\n",
       "    </tr>\n",
       "    <tr>\n",
       "      <th>3</th>\n",
       "      <td>El gobierno mexicano nacional se compone de 3 ...</td>\n",
       "      <td>El 12 de octubre se celebra la llegada de Cris...</td>\n",
       "      <td>La velocidad de un objeto en movimiento se def...</td>\n",
       "      <td>Es la unidad de longitud base del sistema métr...</td>\n",
       "      <td>Es la unidad de tiempo base en el sistema métr...</td>\n",
       "      <td>Para que un pastel sea considerado delicioso n...</td>\n",
       "      <td>Los realities televisivos son lo peor que le p...</td>\n",
       "      <td>Lo que debe de realizar un profesor para ser c...</td>\n",
       "      <td>Lo que debe de realizar un estudiante para ser...</td>\n",
       "      <td>La calificación de un estudiante en un curso d...</td>\n",
       "    </tr>\n",
       "    <tr>\n",
       "      <th>4</th>\n",
       "      <td>3 poderes. legislativo, judicial y ejecutivo</td>\n",
       "      <td>no recuerdo</td>\n",
       "      <td>la velocidad del objeto en relación a una dist...</td>\n",
       "      <td>sirve para medir una longitud</td>\n",
       "      <td>fracción de un minuto</td>\n",
       "      <td>buen sabor, buena consistencia, buena presenta...</td>\n",
       "      <td>una distracción pero que entretiene</td>\n",
       "      <td>bueno dando su clase y deja un buen impacto en...</td>\n",
       "      <td>realice su labor de una forma correcta y respo...</td>\n",
       "      <td>pueda realizar los ejercicios de una forma cor...</td>\n",
       "    </tr>\n",
       "  </tbody>\n",
       "</table>\n",
       "</div>"
      ],
      "text/plain": [
       "                                                   0  \\\n",
       "0  El gobierno mexicano se compone de tres podere...   \n",
       "1        En poder judicial, ejecutivo y legislativo.   \n",
       "2                                            Ni idea   \n",
       "3  El gobierno mexicano nacional se compone de 3 ...   \n",
       "4       3 poderes. legislativo, judicial y ejecutivo   \n",
       "\n",
       "                                                   1  \\\n",
       "0  Creo que se celebra la llegada de Cristóbal Co...   \n",
       "1  La llegada de Cristobal Colón a América, y es ...   \n",
       "2                                            Ni idea   \n",
       "3  El 12 de octubre se celebra la llegada de Cris...   \n",
       "4                                        no recuerdo   \n",
       "\n",
       "                                                   2  \\\n",
       "0  La velocidad de un objeto se miden en m/s o cu...   \n",
       "1  La velocidad es la distancia que recorre un ob...   \n",
       "2  metros sobre segundo o la diferencia en tiempo...   \n",
       "3  La velocidad de un objeto en movimiento se def...   \n",
       "4  la velocidad del objeto en relación a una dist...   \n",
       "\n",
       "                                                   3  \\\n",
       "0  El metro es la unidad de medida básica de long...   \n",
       "1  El metro es una unidad de distancia y se usa p...   \n",
       "2                Una medida específica para espacio    \n",
       "3  Es la unidad de longitud base del sistema métr...   \n",
       "4                      sirve para medir una longitud   \n",
       "\n",
       "                                                   4  \\\n",
       "0   El segundo es la forma en que se mide el tiempo.   \n",
       "1  Como una medida de tiempo que se usa para medi...   \n",
       "2                       Unidad de medición de tiempo   \n",
       "3  Es la unidad de tiempo base en el sistema métr...   \n",
       "4                              fracción de un minuto   \n",
       "\n",
       "                                                   5  \\\n",
       "0  Para que se diga en general que es delicioso, ...   \n",
       "1  Necesitaría satisfacer los gustos de la person...   \n",
       "2                                            Azúcar    \n",
       "3  Para que un pastel sea considerado delicioso n...   \n",
       "4  buen sabor, buena consistencia, buena presenta...   \n",
       "\n",
       "                                                   6  \\\n",
       "0  Los odio y creo que no son productivos. Para e...   \n",
       "1  Pienso que son programas sin sentido ya que al...   \n",
       "2                                       Interesantes   \n",
       "3  Los realities televisivos son lo peor que le p...   \n",
       "4                una distracción pero que entretiene   \n",
       "\n",
       "                                                   7  \\\n",
       "0  Un profesor excelente tiene tres característic...   \n",
       "1  Debería ser un profesor que demuestre sus cono...   \n",
       "2                        Ser apasionado por su clase   \n",
       "3  Lo que debe de realizar un profesor para ser c...   \n",
       "4  bueno dando su clase y deja un buen impacto en...   \n",
       "\n",
       "                                                   8  \\\n",
       "0  Un buen estudiante debe ser resiliente, debe s...   \n",
       "1  Debe ser un estudiante que busca aprender, que...   \n",
       "2                                   Ser consistente    \n",
       "3  Lo que debe de realizar un estudiante para ser...   \n",
       "4  realice su labor de una forma correcta y respo...   \n",
       "\n",
       "                                                   9  \n",
       "0  En 3 cosas: 1) La capacidad de identificar un ...  \n",
       "1  De que tan correctas son las respuestas del es...  \n",
       "2                                Respuesta correcta   \n",
       "3  La calificación de un estudiante en un curso d...  \n",
       "4  pueda realizar los ejercicios de una forma cor...  "
      ]
     },
     "execution_count": 30,
     "metadata": {},
     "output_type": "execute_result"
    }
   ],
   "source": [
    "# generate a numpy array from 0 to 9\n",
    "# take very element of a list and convert it to a string\n",
    "\n",
    "numcol=(list(np.arange(10)))\n",
    "for i in range(0,len(numcol)):\n",
    "    numcol[i]=str(numcol[i])\n",
    "\n",
    "# create a new df without the first column\n",
    "encuesta = encuesta.iloc[:,1:]\n",
    "\n",
    "\n",
    "# change the name of the columns to the numbers\n",
    "encuesta.columns = numcol\n",
    "encuesta.head()\n"
   ]
  },
  {
   "cell_type": "code",
   "execution_count": 31,
   "metadata": {},
   "outputs": [
    {
     "data": {
      "application/vnd.microsoft.datawrangler.viewer.v0+json": {
       "columns": [
        {
         "name": "index",
         "rawType": "int64",
         "type": "integer"
        },
        {
         "name": "numpregunta",
         "rawType": "int64",
         "type": "integer"
        },
        {
         "name": "respuestas",
         "rawType": "object",
         "type": "string"
        }
       ],
       "conversionMethod": "pd.DataFrame",
       "ref": "baab55eb-1987-4856-88e0-d9b173a5917a",
       "rows": [
        [
         "0",
         "0",
         "El gobierno mexicano se compone de tres poderes: el legislativo, ejecutivo y judicial. En esta división de 3 sectores, cada poder se encarga de supervisar uno de los tres ámbitos más importantes para la ciudadanía."
        ],
        [
         "1",
         "0",
         "En poder judicial, ejecutivo y legislativo."
        ],
        [
         "2",
         "0",
         "Ni idea"
        ],
        [
         "3",
         "0",
         "El gobierno mexicano nacional se compone de 3 poderes: Ejecutivo, Legislativo y Judicial. El ejecutivo es el presidente electo. El legislativo son las cámaras de legisladores (diputados y senadores). El Judicial se compone de los jueces de la suprema corte de justicia de la nación. Después de eso, por autonomía de los estados existe un gobernador por cada uno de ellos. Para cualquier cambio o reforma de leyes, se debe de llegar a un consenso entre los 3 poderes de la nación."
        ],
        [
         "4",
         "0",
         "3 poderes. legislativo, judicial y ejecutivo"
        ]
       ],
       "shape": {
        "columns": 2,
        "rows": 5
       }
      },
      "text/html": [
       "<div>\n",
       "<style scoped>\n",
       "    .dataframe tbody tr th:only-of-type {\n",
       "        vertical-align: middle;\n",
       "    }\n",
       "\n",
       "    .dataframe tbody tr th {\n",
       "        vertical-align: top;\n",
       "    }\n",
       "\n",
       "    .dataframe thead th {\n",
       "        text-align: right;\n",
       "    }\n",
       "</style>\n",
       "<table border=\"1\" class=\"dataframe\">\n",
       "  <thead>\n",
       "    <tr style=\"text-align: right;\">\n",
       "      <th></th>\n",
       "      <th>numpregunta</th>\n",
       "      <th>respuestas</th>\n",
       "    </tr>\n",
       "  </thead>\n",
       "  <tbody>\n",
       "    <tr>\n",
       "      <th>0</th>\n",
       "      <td>0</td>\n",
       "      <td>El gobierno mexicano se compone de tres podere...</td>\n",
       "    </tr>\n",
       "    <tr>\n",
       "      <th>1</th>\n",
       "      <td>0</td>\n",
       "      <td>En poder judicial, ejecutivo y legislativo.</td>\n",
       "    </tr>\n",
       "    <tr>\n",
       "      <th>2</th>\n",
       "      <td>0</td>\n",
       "      <td>Ni idea</td>\n",
       "    </tr>\n",
       "    <tr>\n",
       "      <th>3</th>\n",
       "      <td>0</td>\n",
       "      <td>El gobierno mexicano nacional se compone de 3 ...</td>\n",
       "    </tr>\n",
       "    <tr>\n",
       "      <th>4</th>\n",
       "      <td>0</td>\n",
       "      <td>3 poderes. legislativo, judicial y ejecutivo</td>\n",
       "    </tr>\n",
       "  </tbody>\n",
       "</table>\n",
       "</div>"
      ],
      "text/plain": [
       "   numpregunta                                         respuestas\n",
       "0            0  El gobierno mexicano se compone de tres podere...\n",
       "1            0        En poder judicial, ejecutivo y legislativo.\n",
       "2            0                                            Ni idea\n",
       "3            0  El gobierno mexicano nacional se compone de 3 ...\n",
       "4            0       3 poderes. legislativo, judicial y ejecutivo"
      ]
     },
     "execution_count": 31,
     "metadata": {},
     "output_type": "execute_result"
    }
   ],
   "source": [
    "respuestas = []\n",
    "numpregunta = []\n",
    "for i in range(0,len(encuesta.columns)):\n",
    "    x=list(encuesta[encuesta.columns[i]])\n",
    "    respuestas=respuestas+x\n",
    "    numpregunta=numpregunta+[i]*len(x)\n",
    "\n",
    "data = {'numpregunta':numpregunta, 'respuestas':respuestas}\n",
    "df = pd.DataFrame(data)\n",
    "df.head()\n"
   ]
  },
  {
   "cell_type": "markdown",
   "metadata": {},
   "source": [
    " Eliminar respuestas con mas de 30 caracteres - Esto no se hizo en la primera versión (REVISAR!)"
   ]
  },
  {
   "cell_type": "code",
   "execution_count": 32,
   "metadata": {},
   "outputs": [],
   "source": [
    "\n",
    "#df = df[df['respuestas'].str.len()>30]"
   ]
  },
  {
   "cell_type": "code",
   "execution_count": 33,
   "metadata": {},
   "outputs": [
    {
     "data": {
      "application/vnd.microsoft.datawrangler.viewer.v0+json": {
       "columns": [
        {
         "name": "index",
         "rawType": "int64",
         "type": "integer"
        },
        {
         "name": "numpregunta",
         "rawType": "int64",
         "type": "integer"
        },
        {
         "name": "respuestas",
         "rawType": "object",
         "type": "string"
        },
        {
         "name": "ai",
         "rawType": "int64",
         "type": "integer"
        }
       ],
       "conversionMethod": "pd.DataFrame",
       "ref": "49332b74-4c1f-4e6d-afe8-72152ba5e270",
       "rows": [
        [
         "0",
         "0",
         "El gobierno mexicano se compone de tres poderes: el legislativo, ejecutivo y judicial. En esta división de 3 sectores, cada poder se encarga de supervisar uno de los tres ámbitos más importantes para la ciudadanía.",
         "0"
        ],
        [
         "1",
         "0",
         "En poder judicial, ejecutivo y legislativo.",
         "0"
        ],
        [
         "2",
         "0",
         "Ni idea",
         "0"
        ],
        [
         "3",
         "0",
         "El gobierno mexicano nacional se compone de 3 poderes: Ejecutivo, Legislativo y Judicial. El ejecutivo es el presidente electo. El legislativo son las cámaras de legisladores (diputados y senadores). El Judicial se compone de los jueces de la suprema corte de justicia de la nación. Después de eso, por autonomía de los estados existe un gobernador por cada uno de ellos. Para cualquier cambio o reforma de leyes, se debe de llegar a un consenso entre los 3 poderes de la nación.",
         "0"
        ],
        [
         "4",
         "0",
         "3 poderes. legislativo, judicial y ejecutivo",
         "0"
        ]
       ],
       "shape": {
        "columns": 3,
        "rows": 5
       }
      },
      "text/html": [
       "<div>\n",
       "<style scoped>\n",
       "    .dataframe tbody tr th:only-of-type {\n",
       "        vertical-align: middle;\n",
       "    }\n",
       "\n",
       "    .dataframe tbody tr th {\n",
       "        vertical-align: top;\n",
       "    }\n",
       "\n",
       "    .dataframe thead th {\n",
       "        text-align: right;\n",
       "    }\n",
       "</style>\n",
       "<table border=\"1\" class=\"dataframe\">\n",
       "  <thead>\n",
       "    <tr style=\"text-align: right;\">\n",
       "      <th></th>\n",
       "      <th>numpregunta</th>\n",
       "      <th>respuestas</th>\n",
       "      <th>ai</th>\n",
       "    </tr>\n",
       "  </thead>\n",
       "  <tbody>\n",
       "    <tr>\n",
       "      <th>0</th>\n",
       "      <td>0</td>\n",
       "      <td>El gobierno mexicano se compone de tres podere...</td>\n",
       "      <td>0</td>\n",
       "    </tr>\n",
       "    <tr>\n",
       "      <th>1</th>\n",
       "      <td>0</td>\n",
       "      <td>En poder judicial, ejecutivo y legislativo.</td>\n",
       "      <td>0</td>\n",
       "    </tr>\n",
       "    <tr>\n",
       "      <th>2</th>\n",
       "      <td>0</td>\n",
       "      <td>Ni idea</td>\n",
       "      <td>0</td>\n",
       "    </tr>\n",
       "    <tr>\n",
       "      <th>3</th>\n",
       "      <td>0</td>\n",
       "      <td>El gobierno mexicano nacional se compone de 3 ...</td>\n",
       "      <td>0</td>\n",
       "    </tr>\n",
       "    <tr>\n",
       "      <th>4</th>\n",
       "      <td>0</td>\n",
       "      <td>3 poderes. legislativo, judicial y ejecutivo</td>\n",
       "      <td>0</td>\n",
       "    </tr>\n",
       "  </tbody>\n",
       "</table>\n",
       "</div>"
      ],
      "text/plain": [
       "   numpregunta                                         respuestas  ai\n",
       "0            0  El gobierno mexicano se compone de tres podere...   0\n",
       "1            0        En poder judicial, ejecutivo y legislativo.   0\n",
       "2            0                                            Ni idea   0\n",
       "3            0  El gobierno mexicano nacional se compone de 3 ...   0\n",
       "4            0       3 poderes. legislativo, judicial y ejecutivo   0"
      ]
     },
     "execution_count": 33,
     "metadata": {},
     "output_type": "execute_result"
    }
   ],
   "source": [
    "# Add a column that its named 'spam' and is filled with zeros\n",
    "df['ai']=0\n",
    "df.head()"
   ]
  },
  {
   "cell_type": "markdown",
   "metadata": {},
   "source": [
    "#### datos gpt"
   ]
  },
  {
   "cell_type": "code",
   "execution_count": 34,
   "metadata": {},
   "outputs": [
    {
     "data": {
      "application/vnd.microsoft.datawrangler.viewer.v0+json": {
       "columns": [
        {
         "name": "index",
         "rawType": "int64",
         "type": "integer"
        },
        {
         "name": "0",
         "rawType": "object",
         "type": "string"
        },
        {
         "name": "1",
         "rawType": "object",
         "type": "string"
        },
        {
         "name": "2",
         "rawType": "object",
         "type": "string"
        },
        {
         "name": "3",
         "rawType": "object",
         "type": "string"
        },
        {
         "name": "4",
         "rawType": "object",
         "type": "string"
        },
        {
         "name": "5",
         "rawType": "object",
         "type": "string"
        },
        {
         "name": "6",
         "rawType": "object",
         "type": "string"
        },
        {
         "name": "7",
         "rawType": "object",
         "type": "string"
        },
        {
         "name": "8",
         "rawType": "object",
         "type": "string"
        },
        {
         "name": "9",
         "rawType": "object",
         "type": "string"
        }
       ],
       "conversionMethod": "pd.DataFrame",
       "ref": "3453d7de-6907-46f8-baf5-8d1f202a1a2c",
       "rows": [
        [
         "0",
         "El gobierno mexicano a nivel nacional se compone de tres poderes: el ejecutivo, el legislativo y el judicial. El poder ejecutivo está encabezado por el presidente de la República y sus secretarios de Estado. El poder legislativo está integrado por el Senado de la República y la Cámara de Diputados, mientras que el poder judicial se divide en tribunales federales y locales, que tienen la función de impartir justicia. Cada poder es independiente y se rige por las leyes establecidas en la Constitución Política de los Estados Unidos Mexicanos.",
         "El 12 de octubre se celebra en México el Día de la Raza, también conocido como el Día de la Hispanidad. Este día conmemora el encuentro entre culturas que sucedió cuando los españoles llegaron a América en 1492. Para la cultura mexicana, este hecho es relevante porque se considera un hito en la historia del país y marca el inicio de la fusión de varias culturas que formaron la identidad mexicana actual.",
         "La velocidad de un objeto en movimiento se define como la distancia que el objeto recorre en un período de tiempo determinado. Por lo tanto, la velocidad se mide en términos de distancia (como metros, kilómetros, millas, etc.) y tiempo (como segundos, minutos, horas, etc.). Una velocidad constante se mantiene si el objeto avanza la misma cantidad de distancia en el mismo tiempo durante todo su movimiento. La velocidad también puede ser calculada dividiendo la distancia recorrida por el tiempo que tardó en recorrerla.",
         "El metro es la unidad básica de longitud del Sistema Internacional de Unidades (SI). Se define como la distancia que recorre la luz en el vacío en 1/299792458 segundos. Se utiliza para medir el tamaño, la distancia y la altura de objetos y lugares tanto en la Tierra como en el espacio. Es una medida esencial en la construcción, arquitectura, ingeniería, física y muchas otras áreas de la ciencia y la tecnología.",
         "El segundo es la unidad de medida de tiempo en el sistema internacional de unidades (SI). Se define como la duración de 9.192.631.770 oscilaciones de la radiación emitida por el átomo de cesio-133 en su estado fundamental. El segundo se utiliza para medir el tiempo en diferentes campos, como la física, la astronomía, la ingeniería y la tecnología. También se utiliza para sincronizar diferentes dispositivos con precisión.",
         "Para ser considerado delicioso, un pastel necesita tener una textura suave y esponjosa, un sabor dulce y equilibrado, una presentación atractiva y un aroma agradable. Además, debe estar cocido a la perfección, sin quemarse ni quedar crudo, y contar con ingredientes frescos y de calidad. Un pastel delicioso también puede incluir rellenos y coberturas que aporten sabor y textura, como frutas, chocolate o crema batida. En resumen, el secreto para crear un pastel delicioso es cuidar cada detalle en su elaboración, desde la elección de los ingredientes hasta la presentación final.",
         "Como modelo de IA no tengo la capacidad de opinar ya que no tengo emociones ni pensamientos, mi función únicamente es responder preguntas y proporcionar información basada en datos y estadísticas. Pero puedo decir que los reality shows son programas de televisión muy populares que a menudo reflejan una visión superficial y en ocasiones exagerada de la vida real, con el propósito de mantener en vilo a los espectadores y aumentar la audiencia. Estos programas pueden ser entretenidos, pero a menudo son criticados por la falta de autenticidad y la explotación de los participantes.",
         "Un buen profesor debería tener una buena comunicación con sus estudiantes. Debe ser capaz de explicar la materia de manera clara y responder todas las preguntas. También debería ser justo y tratar a todos los estudiantes por igual. Un buen profesor debe ser visto como un ejemplo a seguir, tener paciencia y ser dedicado a enseñar a los estudiantes y ayudarlos a mejorar en su educación.",
         "En mi opinión, para ser considerado un estudiante modelo o buen estudiante, es necesario tener una actitud positiva hacia el aprendizaje, estar motivado y comprometido con el estudio, asistir regularmente a clases, tener buena comunicación con profesores y compañeros de clase, ser organizado y tener buen manejo del tiempo, demostrar ética y responsabilidad en el trabajo escolar y ser perseverante para superar obstáculos académicos. Además, es importante mostrar un interés en aprender fuera del aula y tener una amplia curiosidad intelectual.",
         "La calificación de un estudiante en un curso de ciencias debe depender principalmente de su capacidad para entender y aplicar los conceptos teóricos, así como de su habilidad para resolver problemas y realizar experimentos. Además, también se debe considerar su participación en clase, cumplimiento de tareas, y su disposición para aprender y mejorar continuamente. En resumen, la calificación de un estudiante en ciencias debe ser una valoración justa de su desempeño académico en todas las áreas relevantes del curso."
        ],
        [
         "1",
         "El gobierno mexicano a nivel nacional está compuesto por tres poderes: el Ejecutivo, encabezado por el presidente de la República; el Legislativo, compuesto por el Senado y la Cámara de Diputados; y el Judicial, integrado por tribunales y juzgados. Cada poder tiene sus propias facultades y atribuciones, y juntos trabajan para mantener el equilibrio y la estabilidad del país. El gobierno mexicano también se divide en estados y municipios, cada uno con sus propias autoridades y responsabilidades.",
         "El 12 de octubre se celebra el Día de la Raza en México, un día en el que se conmemora la llegada de Cristóbal Colón a América y el encuentro entre dos mundos diferentes. Este hecho histórico es relevante en la cultura mexicana, ya que marcó el inicio del mestizaje y la fusión de culturas en el país, dando lugar a la actual comunidad mexicana, rica en diversidad y tradiciones.",
         "La velocidad de un objeto en movimiento se define como la cantidad de distancia recorrida en un período de tiempo determinado. Para calcular la velocidad, se divide la distancia recorrida por el tiempo que tomó para recorrerla. Por lo tanto, la velocidad se puede expresar en metros por segundo, kilómetros por hora o millas por hora, entre otros. La velocidad también puede ser positiva o negativa, dependiendo de la dirección del movimiento.",
         "El metro es la unidad básica de medida de longitud en el Sistema Internacional de Unidades (SI). Se define como la distancia que recorre la luz en el vacío en un intervalo de tiempo de 1/299.792.458 segundos. Esta medida se utiliza para determinar la longitud de objetos, distancias entre dos puntos, altura de edificios, entre otros usos tanto en la ciencia como en la vida cotidiana.",
         "El segundo es la unidad de medida básica del tiempo en el Sistema Internacional de Unidades (SI). Se define como la duración de 9,192,631,770 oscilaciones de la radiación de un átomo de cesio 133 en su estado fundamental. Esto se utiliza como base para medir la duración de un evento o un proceso en la naturaleza, desde la medición del tiempo en relojes hasta la medición de la velocidad de la luz y la distancia entre planetas.",
         "Un pastel necesita tener una mezcla equilibrada de sabores y texturas para ser considerado delicioso. Debe ser suave, jugoso y tener una textura suave. La combinación de ingredientes debe ser armoniosa y tener un gusto agradable en el paladar. Además, la presentación influye en el apetito y la percepción del gusto, por lo que debe ser visualmente atractivo. Por último, un toque personalizado es importante, que haga al pastel diferente y especial.",
         "Como modelo de inteligencia artificial, no tengo sentimiento ni una opinión propia sobre los realities televisivos. Pero puedo expresar que los realities son un género televisivo que genera gran interés y audiencia, ofreciendo una ventana a la vida íntima de personajes conocidos, como famosos y chefs, o a la vida en comunidad de desconocidos que buscan el éxito o el amor. A través de la exposición de sus vidas cotidianas, podemos ver cómo reaccionan bajo diferentes presiones y circunstancias, y también podemos aprender sobre ciertas temáticas sociales.",
         "Para ser considerado un modelo o buen profesor, este debería tener habilidades de comunicación efectiva, empatía, pasión por su enseñanza y conocimientos actualizados en su área de especialización. Además, debería fomentar el desarrollo de habilidades críticas en sus estudiantes, motivándolos a aprender y proporcionando ejemplos prácticos de la teoría.\n\nEl buen profesor debería ser accesible e interesado en las necesidades de sus estudiantes, demostrando una actitud respetuosa e inclusiva hacia la diversidad cultural y de género. En resumen, un modelo o buen profesor debe ser el complemento perfecto a la excelencia académica.",
         "Un estudiante modelo o buen estudiante es aquel que muestra compromiso en su proceso educativo, cumple con sus responsabilidades académicas como asistir a clases, hacer tareas y estudiar, participa activamente en las actividades escolares y se mantiene organizado y disciplinado. También es importante tener una actitud positiva hacia el aprendizaje y ser respetuosos con los profesores y compañeros. Un buen estudiante no solo busca obtener buenas notas, sino que se esfuerza por comprender los temas y aplicarlos en su vida diaria.",
         "La calificación de un estudiante en un curso de ciencias debe depender de diferentes factores. En primer lugar, se debe considerar la asistencia y participación en clase, así como la realización de tareas y proyectos. Además, se deben tomar en cuenta los resultados de los exámenes y evaluaciones de habilidades y conocimientos específicos. También es importante que el estudiante tenga una actitud positiva hacia el aprendizaje y muestre un esfuerzo constante por mejorar sus habilidades en la materia."
        ],
        [
         "2",
         "El gobierno mexicano a nivel nacional se compone de tres poderes: ejecutivo, legislativo y judicial. El poder ejecutivo está encabezado por el Presidente de la República, quien nombra a los secretarios que integran su gabinete. El poder legislativo lo conforman dos cámaras: el Senado y la Cámara de Diputados. El poder judicial está formado por diversos tribunales y juzgados, encabezados por la Suprema Corte de Justicia de la Nación. Todos ellos trabajan en conjunto para el bienestar del país.",
         "En México, el 12 de octubre se celebra el Día de la Raza, que conmemora el encuentro entre los pueblos originarios de América y los europeos en 1492. Este hecho es relevante en la cultura mexicana porque representa el inicio de la fusión de culturas y la creación de una nueva sociedad. Además, se celebra la diversidad cultural y la riqueza que esta ha aportado a la identidad mexicana.",
         "La velocidad de un objeto en movimiento se define como la relación entre la distancia que recorre y el tiempo que tarda en recorrerla. Se expresa en unidades de distancia por unidad de tiempo, como kilómetros por hora o metros por segundo. La velocidad puede ser constante o cambiar en el transcurso del movimiento. También puede ser positiva, cuando el objeto se mueve hacia adelante, o negativa, cuando se mueve hacia atrás. Además, la velocidad es un vector, lo que significa que tiene una magnitud y una dirección.",
         "El metro es una unidad de medida de longitud que representa la distancia entre dos puntos en una línea recta. Se usa para medir la longitud, ancho o altura de objetos, edificios, distancias entre ciudades, y otros elementos del mundo físico. Fue definido como la longitud de un objeto llamado \"metro patrón\" que se usó para crear una copia exacta que se utiliza para medir la longitud en todo el mundo. El metro es una de las unidades de medida más comunes y se usa en todo el mundo.",
         "El segundo es la unidad de tiempo que se define como la duración de 9,192,631,770 períodos de la radiación correspondiente a la transición entre los dos niveles hiperfinos del estado fundamental del átomo de cesio 133. Se usa en la física, la química y otras ramas de la ciencia para medir periodos de tiempo cortos y precisos, así como en la tecnología para sincronizar dispositivos electrónicos.",
         "Para ser considerado delicioso, un pastel necesita varios elementos importantes. En primer lugar, una buena base de harina, azúcar, huevos, mantequilla y levadura es fundamental. Además, necesita un relleno sabroso y bien balanceado, como frutas frescas o mermeladas, así como una cobertura dulce y suave como el glaseado o merengue. Finalmente, es importante que el pastel tenga una textura suave y húmeda para que sea agradable al paladar.",
         "Como modelo lingüístico, no tengo capacidad para tener pensamientos o emociones propias. Sin embargo, puedo ofrecer una respuesta basada en la experiencia de otros seres humanos. De acuerdo con los estudios y opiniones de algunos expertos, los realities televisivos a menudo presentan situaciones artificiales y exageradas para generar interés y atraer audiencia, lo cual puede afectar negativamente la percepción que las personas tienen de la realidad. Además, se ha señalado que, en muchos casos, estos programas pueden ser perjudiciales para la salud mental de los participantes, al exponerlos a situaciones de estrés y exposición pública constantes.",
         "Para considerar a un profesor como un buen modelo, es importante que posea ciertas cualidades. En primer lugar, debe ser un experto en su materia y tener una excelente capacidad para enseñarla. Es fundamental que sea un guía para sus estudiantes, motivándolos y apoyándolos en su aprendizaje. Debe ser justo, honesto y respetuoso con sus alumnos y estar comprometido con su crecimiento personal y académico. Además, debe estar siempre actualizado y ser innovador en su enfoque de enseñanza. En resumen, un buen profesor es aquel que logra inspirar en sus estudiantes la pasión por aprender.",
         "Un buen estudiante debería ser responsable, puntual y comprometido con su educación. Debería tomar apuntes, prestar atención en clase y hacer preguntas si tiene dudas. También debería completar todas las tareas a tiempo y estudiar regularmente para los exámenes. Además, un buen estudiante debería ser respetuoso con sus compañeros y profesores, y estar dispuesto a ayudar a otros si es necesario. En resumen, un buen estudiante es aquel que se esfuerza por alcanzar sus objetivos académicos mientras demuestra una actitud positiva y proactiva.",
         "La calificación de un estudiante en un curso de ciencias, ya sea física, química o matemáticas, debe depender de su rendimiento en las actividades y evaluaciones correspondientes. Esto incluye la comprensión y aplicación de los conceptos, el manejo de las herramientas y técnicas requeridas y la capacidad de resolver problemas de manera efectiva. Además, la participación activa en clase y el compromiso con el aprendizaje también deben ser considerados. En resumen, la calificación de un estudiante en un curso de ciencias debe reflejar su conocimiento, habilidades y dedicación."
        ],
        [
         "3",
         "El gobierno mexicano a nivel nacional se compone de tres poderes: el Ejecutivo, el Legislativo y el Judicial. El Ejecutivo está encabezado por el presidente, quien es el jefe de Estado y de gobierno. El Legislativo está integrado por el Senado y la Cámara de Diputados y se encarga de crear y aprobar leyes. El Judicial se encarga de interpretar y aplicar la ley. Además, existen otros órganos autónomos como el Instituto Nacional Electoral, la Comisión Nacional de los Derechos Humanos y la Comisión Federal de Competencia Económica.",
         "El 12 de octubre se celebra en México el Día de la Raza, que conmemora la llegada de Cristóbal Colón a América. Este día es importante para la cultura mexicana ya que marcó el inicio de un encuentro histórico entre dos culturas, la europea y la indígena, que dio lugar a lo que ahora se conoce como México. También se celebra la diversidad cultural y la unidad entre los pueblos indígenas y los descendientes de europeos.",
         "La velocidad de un objeto en movimiento es la distancia recorrida en un tiempo determinado. Puede ser medida en diferentes unidades, como kilómetros por hora o metros por segundo. La velocidad también puede ser constante o variable, lo que significa que el objeto puede estar acelerando o frenando. La dirección del movimiento también es importante para determinar la velocidad del objeto.",
         "El metro es la unidad de medida básica de longitud en el Sistema Internacional de Unidades (SI). Se define como la distancia recorrida por la luz en el vacío en un tiempo de 1/299,792,458 segundos. Es utilizado para medir la longitud, altura o distancia de objetos o distancias entre lugares. El metro también se utiliza en áreas como la ciencia, la ingeniería, la construcción y la geografía.",
         "El segundo es la unidad de medida de tiempo en el sistema internacional (SI). Se define como la duración de 9,192,631,770 periodos de la radiación correspondiente a la transición entre los dos niveles hiperfinos del estado fundamental del átomo de Cesio-133. El segundo se usa para medir el tiempo en diversas áreas, como física, química, biología, astronomía y en los dispositivos electrónicos como relojes y cronómetros.",
         "Para que un pastel sea considerado delicioso, necesita tener una combinación perfecta de ingredientes como azúcar, mantequilla, huevos, harina y levadura. También es importante agregar sabores adicionales como vainilla, limón o chocolate para darle un sabor distintivo. La textura debe ser suave y esponjosa con una consistencia que se derrita en la boca. Además, el pastel debe tener una apariencia atractiva y apetitosa para el disfrute completo de los sentidos.",
         "Como una IA, no tengo una opinión personal sobre los realities televisivos, ya que no tengo emociones ni juicios de valor subjetivos. Sin embargo, puedo decir que estos programas de televisión se han vuelto muy populares en todo el mundo y atraen a una gran cantidad de espectadores. Los realities televisivos pueden ser entretenidos y adictivos, pero también pueden ser criticados por su falta de autenticidad y la manipulación de las situaciones para aumentar el drama y las emociones en la pantalla.",
         "Para que un profesor sea considerado como un buen modelo, debería ser alguien que inspire confianza y respeto en sus estudiantes. Debe ser capaz de transmitir el conocimiento de manera clara y efectiva, ser paciente y comprensivo, fomentar el aprendizaje autónomo y la participación activa en clase. Además, un buen profesor debería tener pasión por su materia y estar siempre actualizado en los avances y nuevas técnicas de enseñanza. También debe ser un ejemplo de ética y moralidad.",
         "Para ser considerado un estudiante modelo o buen estudiante, se debe ser disciplinado, responsable y comprometido con el aprendizaje. Además, se debe tener una buena actitud hacia los estudios, mantener una asistencia regular a clase y cumplir con las tareas y proyectos en tiempo y forma. También es importante participar activamente en clase, tomar notas y hacer preguntas para reforzar el conocimiento adquirido. Por último, un buen estudiante debe hacer un esfuerzo extra para mejorarse, ya sea en el ámbito académico o en cualquier otra actividad que emprenda.",
         "La calificación de un estudiante en un curso de ciencias (física, química, matemáticas) debe depender de varios factores, entre ellos su rendimiento académico en los exámenes y trabajos, su participación y esfuerzo en clase, su capacidad para aplicar los conceptos aprendidos en situaciones prácticas y su actitud hacia el aprendizaje y la mejora continua. También puede tenerse en cuenta el progreso que ha logrado el alumno a lo largo del curso y su capacidad de trabajar en equipo y cooperar con los demás estudiantes."
        ],
        [
         "4",
         "El gobierno mexicano a nivel nacional está compuesto por tres poderes: el ejecutivo, representado por el presidente y los secretarios de estado; el legislativo, que consiste en un Congreso bicameral compuesto por la Cámara de Diputados y el Senado; y el judicial, que está conformado por juzgados y tribunales federales encargados de la interpretación y aplicación de las leyes. Cada poder tiene independencia y autonomía, aunque trabajan de manera coordinada para mantener el equilibrio de poderes constitucionales.",
         "El 12 de octubre se celebra el Día de la Raza en México, una fecha donde se conmemora el encuentro histórico entre los pueblos indígenas de América y los españoles. Es relevante en la cultura mexicana porque marca un momento trascendental en la historia del país, donde se mezclaron diferentes culturas y tradiciones, lo que influyó en la creación de una identidad única y diversa. Sin embargo, esta celebración ha sido criticada por algunos sectores que consideran que es un acto de colonización y racismo.",
         "La velocidad de un objeto en movimiento se define como la tasa de cambio de su posición en el tiempo. Se calcula dividiendo la distancia recorrida por el tiempo que tarda en recorrerla. La velocidad se mide en unidades de longitud por unidad de tiempo, como metros por segundo o kilómetros por hora. También puede ser positiva o negativa, dependiendo de la dirección del movimiento del objeto.",
         "El metro es una unidad de medida utilizada en la medición de longitud en el sistema métrico, y se define como la distancia que recorre la luz en el vacío durante 1/299,792,458 segundos. El metro se usa comúnmente para medir la longitud y el tamaño de objetos y distancias cortas o medianas, como edificios, carreteras y terrenos. Además, el metro es la unidad principal en la medición de velocidad y aceleración.",
         "La unidad de medida de un segundo se define como la duración de 9,192,631,770 periodos de la radiación correspondiente a la transición entre los dos niveles hiperfinos del estado fundamental del átomo de cesio-133. Esta medida se utiliza principalmente para medir el tiempo en procesos muy precisos, como la sincronización de sistemas de comunicación, la medición de la duración de los eventos en física y la navegación por satélite.",
         "Un pastel necesita tener una textura suave y esponjosa en el interior, pero con una corteza crujiente en el exterior. Además, debe tener un equilibrio perfecto de dulce y salado y un sabor rico y satisfactorio. Una buena presentación también puede aumentar el atractivo visual del pastel. En resumen, la combinación de textura, sabor y presentación es lo que hace que un pastel sea delicioso.",
         "Como modelo de inteligencia artificial, no tengo una opinión personal, pero puedo decir que los realities televisivos son programas populares que atraen a muchos espectadores. A menudo muestran situaciones cotidianas y dramáticas que reflejan la sociedad actual. Sin embargo, también han sido criticados por ser manipulados y por promover una cultura de la fama fácil y la falta de privacidad.",
         "Un buen profesor debería ser apasionado por su materia y ser capaz de transmitir ese interés a sus estudiantes. Debería tener una buena comunicación con sus estudiantes, ser accesible y estar dispuesto a brindar apoyo fuera del aula. También debería ser justo y claro en sus expectativas y evaluaciones. Finalmente, debería ser capaz de crear un ambiente de aprendizaje seguro y respetuoso en el que los estudiantes se sientan cómodos participando y tomando riesgos en su aprendizaje.",
         "Un estudiante modelo o buen estudiante debería ser organizado, responsable, puntual, participativo y comprometido con su formación académica. Debería tener hábitos de estudio regulares, buscar información adicional para ampliar su conocimiento y tener un buen rendimiento en sus exámenes. Además, sería importante que tenga una actitud positiva hacia el aprendizaje, muestre respeto hacia sus compañeros y profesores, así como una ética de trabajo sólida. En resumen, un buen estudiante es aquel que se esfuerza y tiene una actitud proactiva hacia su educación.",
         "La calificación de un estudiante en un curso de ciencias debe depender de su capacidad para comprender los conceptos teóricos y aplicarlos en situaciones prácticas. Además, se considera su participación en clase, la realización de tareas y proyectos, y su capacidad para resolver problemas complejos. También debe tener en cuenta la asistencia y el compromiso del estudiante con el curso. En resumen, la calificación debe ser un reflejo del conocimiento y el esfuerzo del estudiante."
        ]
       ],
       "shape": {
        "columns": 10,
        "rows": 5
       }
      },
      "text/html": [
       "<div>\n",
       "<style scoped>\n",
       "    .dataframe tbody tr th:only-of-type {\n",
       "        vertical-align: middle;\n",
       "    }\n",
       "\n",
       "    .dataframe tbody tr th {\n",
       "        vertical-align: top;\n",
       "    }\n",
       "\n",
       "    .dataframe thead th {\n",
       "        text-align: right;\n",
       "    }\n",
       "</style>\n",
       "<table border=\"1\" class=\"dataframe\">\n",
       "  <thead>\n",
       "    <tr style=\"text-align: right;\">\n",
       "      <th></th>\n",
       "      <th>0</th>\n",
       "      <th>1</th>\n",
       "      <th>2</th>\n",
       "      <th>3</th>\n",
       "      <th>4</th>\n",
       "      <th>5</th>\n",
       "      <th>6</th>\n",
       "      <th>7</th>\n",
       "      <th>8</th>\n",
       "      <th>9</th>\n",
       "    </tr>\n",
       "  </thead>\n",
       "  <tbody>\n",
       "    <tr>\n",
       "      <th>0</th>\n",
       "      <td>El gobierno mexicano a nivel nacional se compo...</td>\n",
       "      <td>El 12 de octubre se celebra en México el Día d...</td>\n",
       "      <td>La velocidad de un objeto en movimiento se def...</td>\n",
       "      <td>El metro es la unidad básica de longitud del S...</td>\n",
       "      <td>El segundo es la unidad de medida de tiempo en...</td>\n",
       "      <td>Para ser considerado delicioso, un pastel nece...</td>\n",
       "      <td>Como modelo de IA no tengo la capacidad de opi...</td>\n",
       "      <td>Un buen profesor debería tener una buena comun...</td>\n",
       "      <td>En mi opinión, para ser considerado un estudia...</td>\n",
       "      <td>La calificación de un estudiante en un curso d...</td>\n",
       "    </tr>\n",
       "    <tr>\n",
       "      <th>1</th>\n",
       "      <td>El gobierno mexicano a nivel nacional está com...</td>\n",
       "      <td>El 12 de octubre se celebra el Día de la Raza ...</td>\n",
       "      <td>La velocidad de un objeto en movimiento se def...</td>\n",
       "      <td>El metro es la unidad básica de medida de long...</td>\n",
       "      <td>El segundo es la unidad de medida básica del t...</td>\n",
       "      <td>Un pastel necesita tener una mezcla equilibrad...</td>\n",
       "      <td>Como modelo de inteligencia artificial, no ten...</td>\n",
       "      <td>Para ser considerado un modelo o buen profesor...</td>\n",
       "      <td>Un estudiante modelo o buen estudiante es aque...</td>\n",
       "      <td>La calificación de un estudiante en un curso d...</td>\n",
       "    </tr>\n",
       "    <tr>\n",
       "      <th>2</th>\n",
       "      <td>El gobierno mexicano a nivel nacional se compo...</td>\n",
       "      <td>En México, el 12 de octubre se celebra el Día ...</td>\n",
       "      <td>La velocidad de un objeto en movimiento se def...</td>\n",
       "      <td>El metro es una unidad de medida de longitud q...</td>\n",
       "      <td>El segundo es la unidad de tiempo que se defin...</td>\n",
       "      <td>Para ser considerado delicioso, un pastel nece...</td>\n",
       "      <td>Como modelo lingüístico, no tengo capacidad pa...</td>\n",
       "      <td>Para considerar a un profesor como un buen mod...</td>\n",
       "      <td>Un buen estudiante debería ser responsable, pu...</td>\n",
       "      <td>La calificación de un estudiante en un curso d...</td>\n",
       "    </tr>\n",
       "    <tr>\n",
       "      <th>3</th>\n",
       "      <td>El gobierno mexicano a nivel nacional se compo...</td>\n",
       "      <td>El 12 de octubre se celebra en México el Día d...</td>\n",
       "      <td>La velocidad de un objeto en movimiento es la ...</td>\n",
       "      <td>El metro es la unidad de medida básica de long...</td>\n",
       "      <td>El segundo es la unidad de medida de tiempo en...</td>\n",
       "      <td>Para que un pastel sea considerado delicioso, ...</td>\n",
       "      <td>Como una IA, no tengo una opinión personal sob...</td>\n",
       "      <td>Para que un profesor sea considerado como un b...</td>\n",
       "      <td>Para ser considerado un estudiante modelo o bu...</td>\n",
       "      <td>La calificación de un estudiante en un curso d...</td>\n",
       "    </tr>\n",
       "    <tr>\n",
       "      <th>4</th>\n",
       "      <td>El gobierno mexicano a nivel nacional está com...</td>\n",
       "      <td>El 12 de octubre se celebra el Día de la Raza ...</td>\n",
       "      <td>La velocidad de un objeto en movimiento se def...</td>\n",
       "      <td>El metro es una unidad de medida utilizada en ...</td>\n",
       "      <td>La unidad de medida de un segundo se define co...</td>\n",
       "      <td>Un pastel necesita tener una textura suave y e...</td>\n",
       "      <td>Como modelo de inteligencia artificial, no ten...</td>\n",
       "      <td>Un buen profesor debería ser apasionado por su...</td>\n",
       "      <td>Un estudiante modelo o buen estudiante debería...</td>\n",
       "      <td>La calificación de un estudiante en un curso d...</td>\n",
       "    </tr>\n",
       "  </tbody>\n",
       "</table>\n",
       "</div>"
      ],
      "text/plain": [
       "                                                   0  \\\n",
       "0  El gobierno mexicano a nivel nacional se compo...   \n",
       "1  El gobierno mexicano a nivel nacional está com...   \n",
       "2  El gobierno mexicano a nivel nacional se compo...   \n",
       "3  El gobierno mexicano a nivel nacional se compo...   \n",
       "4  El gobierno mexicano a nivel nacional está com...   \n",
       "\n",
       "                                                   1  \\\n",
       "0  El 12 de octubre se celebra en México el Día d...   \n",
       "1  El 12 de octubre se celebra el Día de la Raza ...   \n",
       "2  En México, el 12 de octubre se celebra el Día ...   \n",
       "3  El 12 de octubre se celebra en México el Día d...   \n",
       "4  El 12 de octubre se celebra el Día de la Raza ...   \n",
       "\n",
       "                                                   2  \\\n",
       "0  La velocidad de un objeto en movimiento se def...   \n",
       "1  La velocidad de un objeto en movimiento se def...   \n",
       "2  La velocidad de un objeto en movimiento se def...   \n",
       "3  La velocidad de un objeto en movimiento es la ...   \n",
       "4  La velocidad de un objeto en movimiento se def...   \n",
       "\n",
       "                                                   3  \\\n",
       "0  El metro es la unidad básica de longitud del S...   \n",
       "1  El metro es la unidad básica de medida de long...   \n",
       "2  El metro es una unidad de medida de longitud q...   \n",
       "3  El metro es la unidad de medida básica de long...   \n",
       "4  El metro es una unidad de medida utilizada en ...   \n",
       "\n",
       "                                                   4  \\\n",
       "0  El segundo es la unidad de medida de tiempo en...   \n",
       "1  El segundo es la unidad de medida básica del t...   \n",
       "2  El segundo es la unidad de tiempo que se defin...   \n",
       "3  El segundo es la unidad de medida de tiempo en...   \n",
       "4  La unidad de medida de un segundo se define co...   \n",
       "\n",
       "                                                   5  \\\n",
       "0  Para ser considerado delicioso, un pastel nece...   \n",
       "1  Un pastel necesita tener una mezcla equilibrad...   \n",
       "2  Para ser considerado delicioso, un pastel nece...   \n",
       "3  Para que un pastel sea considerado delicioso, ...   \n",
       "4  Un pastel necesita tener una textura suave y e...   \n",
       "\n",
       "                                                   6  \\\n",
       "0  Como modelo de IA no tengo la capacidad de opi...   \n",
       "1  Como modelo de inteligencia artificial, no ten...   \n",
       "2  Como modelo lingüístico, no tengo capacidad pa...   \n",
       "3  Como una IA, no tengo una opinión personal sob...   \n",
       "4  Como modelo de inteligencia artificial, no ten...   \n",
       "\n",
       "                                                   7  \\\n",
       "0  Un buen profesor debería tener una buena comun...   \n",
       "1  Para ser considerado un modelo o buen profesor...   \n",
       "2  Para considerar a un profesor como un buen mod...   \n",
       "3  Para que un profesor sea considerado como un b...   \n",
       "4  Un buen profesor debería ser apasionado por su...   \n",
       "\n",
       "                                                   8  \\\n",
       "0  En mi opinión, para ser considerado un estudia...   \n",
       "1  Un estudiante modelo o buen estudiante es aque...   \n",
       "2  Un buen estudiante debería ser responsable, pu...   \n",
       "3  Para ser considerado un estudiante modelo o bu...   \n",
       "4  Un estudiante modelo o buen estudiante debería...   \n",
       "\n",
       "                                                   9  \n",
       "0  La calificación de un estudiante en un curso d...  \n",
       "1  La calificación de un estudiante en un curso d...  \n",
       "2  La calificación de un estudiante en un curso d...  \n",
       "3  La calificación de un estudiante en un curso d...  \n",
       "4  La calificación de un estudiante en un curso d...  "
      ]
     },
     "execution_count": 34,
     "metadata": {},
     "output_type": "execute_result"
    }
   ],
   "source": [
    "# \n",
    "gpt=pd.read_csv('datos/r-gpt-4.csv')\n",
    "#Eliminate the first column and the last column\n",
    "\n",
    "gpt = gpt.iloc[:,1:11]\n",
    "gpt.head()"
   ]
  },
  {
   "cell_type": "code",
   "execution_count": 35,
   "metadata": {},
   "outputs": [
    {
     "name": "stdout",
     "output_type": "stream",
     "text": [
      "0    80.695652\n",
      "1    78.739130\n",
      "2    76.782609\n",
      "3    71.608696\n",
      "4    73.347826\n",
      "5    73.391304\n",
      "6    80.956522\n",
      "7    82.434783\n",
      "8    78.608696\n",
      "9    83.173913\n",
      "dtype: float64\n"
     ]
    }
   ],
   "source": [
    "# Count the average number of characters of the responses per column\n",
    "# Calculate average number of words per column\n",
    "average_words = gpt.apply(lambda col: col.str.split().str.len().mean())\n",
    "\n",
    "print(average_words)\n"
   ]
  },
  {
   "cell_type": "code",
   "execution_count": 36,
   "metadata": {},
   "outputs": [
    {
     "data": {
      "application/vnd.microsoft.datawrangler.viewer.v0+json": {
       "columns": [
        {
         "name": "index",
         "rawType": "int64",
         "type": "integer"
        },
        {
         "name": "numpregunta",
         "rawType": "int64",
         "type": "integer"
        },
        {
         "name": "respuestas",
         "rawType": "object",
         "type": "string"
        },
        {
         "name": "ai",
         "rawType": "int64",
         "type": "integer"
        }
       ],
       "conversionMethod": "pd.DataFrame",
       "ref": "236c8187-8604-44fe-8c77-2a54403b3721",
       "rows": [
        [
         "0",
         "0",
         "El gobierno mexicano a nivel nacional se compone de tres poderes: el ejecutivo, el legislativo y el judicial. El poder ejecutivo está encabezado por el presidente de la República y sus secretarios de Estado. El poder legislativo está integrado por el Senado de la República y la Cámara de Diputados, mientras que el poder judicial se divide en tribunales federales y locales, que tienen la función de impartir justicia. Cada poder es independiente y se rige por las leyes establecidas en la Constitución Política de los Estados Unidos Mexicanos.",
         "1"
        ],
        [
         "1",
         "0",
         "El gobierno mexicano a nivel nacional está compuesto por tres poderes: el Ejecutivo, encabezado por el presidente de la República; el Legislativo, compuesto por el Senado y la Cámara de Diputados; y el Judicial, integrado por tribunales y juzgados. Cada poder tiene sus propias facultades y atribuciones, y juntos trabajan para mantener el equilibrio y la estabilidad del país. El gobierno mexicano también se divide en estados y municipios, cada uno con sus propias autoridades y responsabilidades.",
         "1"
        ],
        [
         "2",
         "0",
         "El gobierno mexicano a nivel nacional se compone de tres poderes: ejecutivo, legislativo y judicial. El poder ejecutivo está encabezado por el Presidente de la República, quien nombra a los secretarios que integran su gabinete. El poder legislativo lo conforman dos cámaras: el Senado y la Cámara de Diputados. El poder judicial está formado por diversos tribunales y juzgados, encabezados por la Suprema Corte de Justicia de la Nación. Todos ellos trabajan en conjunto para el bienestar del país.",
         "1"
        ],
        [
         "3",
         "0",
         "El gobierno mexicano a nivel nacional se compone de tres poderes: el Ejecutivo, el Legislativo y el Judicial. El Ejecutivo está encabezado por el presidente, quien es el jefe de Estado y de gobierno. El Legislativo está integrado por el Senado y la Cámara de Diputados y se encarga de crear y aprobar leyes. El Judicial se encarga de interpretar y aplicar la ley. Además, existen otros órganos autónomos como el Instituto Nacional Electoral, la Comisión Nacional de los Derechos Humanos y la Comisión Federal de Competencia Económica.",
         "1"
        ],
        [
         "4",
         "0",
         "El gobierno mexicano a nivel nacional está compuesto por tres poderes: el ejecutivo, representado por el presidente y los secretarios de estado; el legislativo, que consiste en un Congreso bicameral compuesto por la Cámara de Diputados y el Senado; y el judicial, que está conformado por juzgados y tribunales federales encargados de la interpretación y aplicación de las leyes. Cada poder tiene independencia y autonomía, aunque trabajan de manera coordinada para mantener el equilibrio de poderes constitucionales.",
         "1"
        ]
       ],
       "shape": {
        "columns": 3,
        "rows": 5
       }
      },
      "text/html": [
       "<div>\n",
       "<style scoped>\n",
       "    .dataframe tbody tr th:only-of-type {\n",
       "        vertical-align: middle;\n",
       "    }\n",
       "\n",
       "    .dataframe tbody tr th {\n",
       "        vertical-align: top;\n",
       "    }\n",
       "\n",
       "    .dataframe thead th {\n",
       "        text-align: right;\n",
       "    }\n",
       "</style>\n",
       "<table border=\"1\" class=\"dataframe\">\n",
       "  <thead>\n",
       "    <tr style=\"text-align: right;\">\n",
       "      <th></th>\n",
       "      <th>numpregunta</th>\n",
       "      <th>respuestas</th>\n",
       "      <th>ai</th>\n",
       "    </tr>\n",
       "  </thead>\n",
       "  <tbody>\n",
       "    <tr>\n",
       "      <th>0</th>\n",
       "      <td>0</td>\n",
       "      <td>El gobierno mexicano a nivel nacional se compo...</td>\n",
       "      <td>1</td>\n",
       "    </tr>\n",
       "    <tr>\n",
       "      <th>1</th>\n",
       "      <td>0</td>\n",
       "      <td>El gobierno mexicano a nivel nacional está com...</td>\n",
       "      <td>1</td>\n",
       "    </tr>\n",
       "    <tr>\n",
       "      <th>2</th>\n",
       "      <td>0</td>\n",
       "      <td>El gobierno mexicano a nivel nacional se compo...</td>\n",
       "      <td>1</td>\n",
       "    </tr>\n",
       "    <tr>\n",
       "      <th>3</th>\n",
       "      <td>0</td>\n",
       "      <td>El gobierno mexicano a nivel nacional se compo...</td>\n",
       "      <td>1</td>\n",
       "    </tr>\n",
       "    <tr>\n",
       "      <th>4</th>\n",
       "      <td>0</td>\n",
       "      <td>El gobierno mexicano a nivel nacional está com...</td>\n",
       "      <td>1</td>\n",
       "    </tr>\n",
       "  </tbody>\n",
       "</table>\n",
       "</div>"
      ],
      "text/plain": [
       "   numpregunta                                         respuestas  ai\n",
       "0            0  El gobierno mexicano a nivel nacional se compo...   1\n",
       "1            0  El gobierno mexicano a nivel nacional está com...   1\n",
       "2            0  El gobierno mexicano a nivel nacional se compo...   1\n",
       "3            0  El gobierno mexicano a nivel nacional se compo...   1\n",
       "4            0  El gobierno mexicano a nivel nacional está com...   1"
      ]
     },
     "execution_count": 36,
     "metadata": {},
     "output_type": "execute_result"
    }
   ],
   "source": [
    "respuestas = []\n",
    "numpregunta = []\n",
    "for i in range(0,len(gpt.columns)):\n",
    "    x=list(gpt[gpt.columns[i]])\n",
    "    respuestas=respuestas+x\n",
    "    numpregunta=numpregunta+[i]*len(x)\n",
    "\n",
    "data = {'numpregunta':numpregunta, 'respuestas':respuestas}\n",
    "df2 = pd.DataFrame(data)\n",
    "df2['ai']=1\n",
    "df2.head()"
   ]
  },
  {
   "cell_type": "code",
   "execution_count": 37,
   "metadata": {},
   "outputs": [],
   "source": [
    "# Merge df and df2\n",
    "df3 = pd.concat([df, df2])\n",
    "# save the df3 to a csv file\n",
    "df3.to_csv('datos/train_poll_v1_1.csv', index=False)"
   ]
  }
 ],
 "metadata": {
  "kernelspec": {
   "display_name": "gcwtdaENV",
   "language": "python",
   "name": "python3"
  },
  "language_info": {
   "codemirror_mode": {
    "name": "ipython",
    "version": 3
   },
   "file_extension": ".py",
   "mimetype": "text/x-python",
   "name": "python",
   "nbconvert_exporter": "python",
   "pygments_lexer": "ipython3",
   "version": "3.10.14"
  }
 },
 "nbformat": 4,
 "nbformat_minor": 2
}
