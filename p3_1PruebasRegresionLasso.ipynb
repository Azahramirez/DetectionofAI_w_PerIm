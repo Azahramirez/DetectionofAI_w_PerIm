{
 "cells": [
  {
   "cell_type": "markdown",
   "metadata": {},
   "source": [
    "# Notebook para demostrar pipeline que utiliza el modelo de regresion logistica Lasso para distinguir entre AI o no"
   ]
  },
  {
   "cell_type": "markdown",
   "metadata": {},
   "source": [
    "**Cargar librerias**"
   ]
  },
  {
   "cell_type": "code",
   "execution_count": 1,
   "metadata": {},
   "outputs": [
    {
     "name": "stderr",
     "output_type": "stream",
     "text": [
      "[nltk_data] Downloading package punkt to\n",
      "[nltk_data]     C:\\Users\\angel\\AppData\\Roaming\\nltk_data...\n",
      "[nltk_data]   Package punkt is already up-to-date!\n",
      "[nltk_data] Downloading package stopwords to\n",
      "[nltk_data]     C:\\Users\\angel\\AppData\\Roaming\\nltk_data...\n",
      "[nltk_data]   Package stopwords is already up-to-date!\n"
     ]
    }
   ],
   "source": [
    "# Save the model with pkl\n",
    "import pickle\n",
    "import gensim\n",
    "import numpy as np\n",
    "import pandas as pd\n",
    "from nltk.tokenize import sent_tokenize, word_tokenize\n",
    "from nltk.corpus import stopwords\n",
    "import nltk\n",
    "nltk.download('punkt')\n",
    "nltk.download('stopwords')\n",
    "\n",
    "from nltk.tokenize import sent_tokenize\n",
    "import ripser\n",
    "from persim import plot_diagrams, PersistenceImager\n",
    "import matplotlib.pyplot as plt"
   ]
  },
  {
   "cell_type": "markdown",
   "metadata": {},
   "source": [
    "### Cargar modelo y pipeline completo"
   ]
  },
  {
   "cell_type": "code",
   "execution_count": 2,
   "metadata": {},
   "outputs": [],
   "source": [
    "# Load the model\n",
    "with open('log_reg_model.pkl', 'rb') as f:\n",
    "    model = pickle.load(f)"
   ]
  },
  {
   "cell_type": "markdown",
   "metadata": {},
   "source": [
    "#### Glove"
   ]
  },
  {
   "cell_type": "code",
   "execution_count": 3,
   "metadata": {},
   "outputs": [
    {
     "name": "stdout",
     "output_type": "stream",
     "text": [
      "Loading GloVe Model...\n",
      "Done. 855380 words loaded!\n"
     ]
    }
   ],
   "source": [
    "def load_glove_model(glove_file):\n",
    "    print(\"Loading GloVe Model...\")\n",
    "    glove_model = {}\n",
    "    with open(glove_file, 'r', encoding=\"utf-8\") as f:\n",
    "        for line in f:\n",
    "            split_line = line.split()\n",
    "            word = split_line[0]\n",
    "            embedding = np.array([float(val) for val in split_line[1:]])\n",
    "            glove_model[word] = embedding\n",
    "    print(\"Done.\", len(glove_model), \"words loaded!\")\n",
    "    return glove_model\n",
    "\n",
    "glove_file = 'glove_6B/glove-sbwc.i25.vec'\n",
    "glove_model = load_glove_model(glove_file)"
   ]
  },
  {
   "cell_type": "markdown",
   "metadata": {},
   "source": [
    "Funcion para hacer pruebas"
   ]
  },
  {
   "cell_type": "code",
   "execution_count": 4,
   "metadata": {},
   "outputs": [],
   "source": [
    "def prueba(ejemplo):\n",
    "    print(\"Ejemplo:\", ejemplo)\n",
    "\n",
    "    \n",
    "    sentences = sent_tokenize(ejemplo)\n",
    "\n",
    "\n",
    "    tokenized_sentences = [word_tokenize(sentence) for sentence in sentences]\n",
    "\n",
    "\n",
    "    def sentence_embedding(sentence_tokens, embeddings, stop_words):\n",
    "        embedding_dim = 300  # GloVe 50d\n",
    "        sentence_vector = np.zeros(embedding_dim)\n",
    "        word_count = 0\n",
    "        \n",
    "        for word in sentence_tokens:\n",
    "            word = word.lower()\n",
    "            if word not in stop_words and word in embeddings:\n",
    "                sentence_vector += embeddings[word]\n",
    "                word_count += 1\n",
    "                \n",
    "        if word_count > 0:\n",
    "            sentence_vector /= word_count  # Optionally, normalize by number of words\n",
    "        \n",
    "        return sentence_vector\n",
    "\n",
    "    embeddings = [sentence_embedding(sentence, glove_model, stopwords.words('spanish')) for sentence in tokenized_sentences]\n",
    "    embeddings = np.array(embeddings)\n",
    "\n",
    "\n",
    "    ripserperiod = ripser.ripser(embeddings)[\"dgms\"]\n",
    "    h0_diagram = ripserperiod[0].copy()\n",
    "    h0_diagram = h0_diagram[np.isfinite(h0_diagram).all(axis=1)]\n",
    "    # Generate the images for all the persistence diagrams at once to assure the same pixel size\n",
    "    # Manually set birth and persistence ranges based on your data\n",
    "\n",
    "    #Los siguientes parámetros mantienen el tamaño de la imagen de persistencia (matriz)\n",
    "    birth_range = (0, 0.5)  \n",
    "    pers_range = (0, 3)   \n",
    "\n",
    "    # Initialize PersistenceImager\n",
    "    pimgr = PersistenceImager(pixel_size=0.01, birth_range=birth_range, pers_range=pers_range)\n",
    "    #pimgr = PersistenceImager(pixel_size=0.1)\n",
    "    pimgr.kernel_params = {'sigma': 0.01}\n",
    "    pdgms = h0_diagram#lista_vectores\n",
    "    #pimgr.fit(lista_vectores, skew=True)\n",
    "    pimgs = pimgr.transform(pdgms,skew=True)\n",
    "\n",
    "    '''\n",
    "    pimgr.plot_image(pimgs)\n",
    "    plt.tight_layout()\n",
    "    plt.show()\n",
    "    '''\n",
    "    #predicción\n",
    "    #flatten the image\n",
    "    pimgs = pimgs.flatten()\n",
    "   \n",
    "    pred = model.predict_proba(pimgs.reshape(1,-1))\n",
    "    print(\"Predicción: Humano = \", pred[0][0], \"%   , AI = \", pred[0][1], \"%\")\n",
    "    return pred"
   ]
  },
  {
   "cell_type": "markdown",
   "metadata": {},
   "source": [
    "# Aquí se pueden realizar pruebas"
   ]
  },
  {
   "cell_type": "code",
   "execution_count": 6,
   "metadata": {},
   "outputs": [
    {
     "name": "stdout",
     "output_type": "stream",
     "text": [
      "Ejemplo: Un buen profesor es alguien que se preocupa por sus estudiantes, se encarga de hacer que los alumnos se cuestionen acerca de lo que creen que saben\n",
      "Predicción: Humano =  0.9717543741105106 %   , AI =  0.02824562588948947 %\n"
     ]
    },
    {
     "name": "stderr",
     "output_type": "stream",
     "text": [
      "d:\\miniconda\\envs\\gcwtdaENV\\lib\\site-packages\\ripser\\ripser.py:253: UserWarning: The input point cloud has more columns than rows; did you mean to transpose?\n",
      "  warnings.warn(\n"
     ]
    },
    {
     "data": {
      "text/plain": [
       "array([[0.97175437, 0.02824563]])"
      ]
     },
     "execution_count": 6,
     "metadata": {},
     "output_type": "execute_result"
    }
   ],
   "source": [
    "caso='Un buen profesor es alguien que se preocupa por sus estudiantes, se encarga de hacer que los alumnos se cuestionen acerca de lo que creen que saben'\n",
    "prueba(caso)"
   ]
  },
  {
   "cell_type": "code",
   "execution_count": 8,
   "metadata": {},
   "outputs": [
    {
     "name": "stdout",
     "output_type": "stream",
     "text": [
      "Ejemplo: Un buen profesor necesita pasión por enseñar, dominio de su materia y habilidades de comunicación que le permitan explicar conceptos de forma clara y accesible. Además, debe ser paciente y empático, comprendiendo que cada estudiante aprende a su propio ritmo. Su capacidad para motivar es clave, inspirando curiosidad y ganas de aprender en sus alumnos. También debe ser flexible y creativo, adaptando sus estrategias según las necesidades del grupo, y practicar la escucha activa para atender dudas y preocupaciones. La evaluación y la retroalimentación efectiva son esenciales para detectar fortalezas y áreas de mejora, ofreciendo sugerencias útiles. Un buen profesor utiliza recursos variados, como herramientas tecnológicas y actividades interactivas, para enriquecer el aprendizaje. Por último, su compromiso con la formación continua le permite mejorar constantemente su metodología y mantenerse actualizado en su disciplina.\n",
      "Predicción: Humano =  7.11659562835365e-07 %   , AI =  0.9999992883404372 %\n"
     ]
    },
    {
     "name": "stderr",
     "output_type": "stream",
     "text": [
      "d:\\miniconda\\envs\\gcwtdaENV\\lib\\site-packages\\ripser\\ripser.py:253: UserWarning: The input point cloud has more columns than rows; did you mean to transpose?\n",
      "  warnings.warn(\n"
     ]
    },
    {
     "data": {
      "text/plain": [
       "array([[7.11659563e-07, 9.99999288e-01]])"
      ]
     },
     "execution_count": 8,
     "metadata": {},
     "output_type": "execute_result"
    }
   ],
   "source": [
    "caso='Un buen profesor necesita pasión por enseñar, dominio de su materia y habilidades de comunicación que le permitan explicar conceptos de forma clara y accesible. Además, debe ser paciente y empático, comprendiendo que cada estudiante aprende a su propio ritmo. Su capacidad para motivar es clave, inspirando curiosidad y ganas de aprender en sus alumnos. También debe ser flexible y creativo, adaptando sus estrategias según las necesidades del grupo, y practicar la escucha activa para atender dudas y preocupaciones. La evaluación y la retroalimentación efectiva son esenciales para detectar fortalezas y áreas de mejora, ofreciendo sugerencias útiles. Un buen profesor utiliza recursos variados, como herramientas tecnológicas y actividades interactivas, para enriquecer el aprendizaje. Por último, su compromiso con la formación continua le permite mejorar constantemente su metodología y mantenerse actualizado en su disciplina.'\n",
    "prueba(caso)"
   ]
  }
 ],
 "metadata": {
  "kernelspec": {
   "display_name": "gcwtdaENV",
   "language": "python",
   "name": "python3"
  },
  "language_info": {
   "codemirror_mode": {
    "name": "ipython",
    "version": 3
   },
   "file_extension": ".py",
   "mimetype": "text/x-python",
   "name": "python",
   "nbconvert_exporter": "python",
   "pygments_lexer": "ipython3",
   "version": "3.10.14"
  }
 },
 "nbformat": 4,
 "nbformat_minor": 2
}
